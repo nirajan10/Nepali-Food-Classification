{
 "cells": [
  {
   "cell_type": "code",
   "execution_count": 1,
   "id": "d72437e5",
   "metadata": {},
   "outputs": [],
   "source": [
    "import pandas as pd"
   ]
  },
  {
   "cell_type": "code",
   "execution_count": 2,
   "id": "8a30a351",
   "metadata": {},
   "outputs": [],
   "source": [
    "des = {'Food' : ['aalu chop', 'bara', 'bhatmas sadeko', 'biryani', 'buff curry', 'chatamari', 'chhoila', 'chhurpi', 'chicken curry', 'chow mein', 'dalbhat', 'dhau(yogurt)', 'dhido', 'gajar ko halwa', 'gundruk', 'jeri(jalebi)', 'kakro ko achar', 'khaja set', 'khapse', 'kheer', 'kodo ko roti', 'kwati', 'laphing', 'lassi', 'momos', 'pani puri', 'phini roti', 'samosa', 'sekuwa', 'selroti', 'sisnu soup', 'sukuti', 'thukpa', 'yomari'],\n",
    "       'Description' : ['Snack made out of boiled potatoes and various spices.', 'Lentil patties, often served with yogurt and various chutneys.', 'Spiced roasted soybeans, often served as a snack.', 'A mixed rice dish. It is made with rice, some type of meat and spices.', 'A curry made from buffalo meat, often served with rice or flatbreads.', 'A type of rice crepe topped with various ingredients. Also known as Nepali Pizza.', 'A typical Newari dish that consists of spiced grilled buffalo meat.', 'A hardened cheese made from yak milk, popular as a snack.', 'Spicy chicken curry served with rice or flatbreads.', 'Nepali-style stir-fried noodles with vegetables and meat.', 'A staple dish consisting of lentil soup (dal) and rice (bhat), often served with vegetable curries and pickles.', 'Nepali yogurt, often sweetened and enjoyed as a dessert. Also known as Dahi. Juju Dhau is famous in Bhaktapur.', 'A traditional food made from buckwheat or millet flour, often eaten in hilly regions.', 'A dessert made from grated carrots, sugar, and ghee.', 'Fermented leafy greens, a traditional Nepali side dish.', 'A sweet, deep-fried dessert soaked in sugar syrup.', 'Spicy cucumber pickle.',\n",
    "                        'A traditional set meal consisting of various snacks like chiura, fried lentils, and other items.', 'Deep-fried cookies, often prepared during festivals.', 'A sweet rice pudding made with milk, rice, and sugar.', 'Flatbread made from millet flour.', 'A soup made from mixed sprouted beans, considered nutritious and eaten during festivals.', 'A cold mung bean noodle dish with spicy sauce, originally from Tibet.', 'A traditional yogurt-based drink, often sweet or salty.', 'Dumplings filled with meat or vegetables, often served with a dipping sauce.', 'Also known as Golgappa, a popular street food consisting of small, round, and hollow puris filled with spicy and tangy water.',\n",
    "                        'A multi layered puri/luchi prepared by refine flour and clarified butter/ghee.', 'A fried pastry with a savoury filling, including ingredients such as spiced potatoes, onions, peas, etc.', 'Meat roasted in a natural wood fire charcoal in a traditional Nepalese country style.', 'A traditional rice-based doughnut or ring-shaped rice bread.', 'Nettle soup, known for its nutritional benefits.', 'Dried and spiced meat, usually buffalo or goat, served as a snack.', 'A noodle soup with vegetables and meat, of Tibetan origin.', 'A traditional Newari steamed dumpling filled with jaggery and sesame seeds.']}"
   ]
  },
  {
   "cell_type": "code",
   "execution_count": 3,
   "id": "8b5b0aee",
   "metadata": {},
   "outputs": [
    {
     "data": {
      "text/plain": [
       "34"
      ]
     },
     "execution_count": 3,
     "metadata": {},
     "output_type": "execute_result"
    }
   ],
   "source": [
    "len(des['Food'])"
   ]
  },
  {
   "cell_type": "code",
   "execution_count": 4,
   "id": "6fa64a86",
   "metadata": {},
   "outputs": [
    {
     "data": {
      "text/plain": [
       "34"
      ]
     },
     "execution_count": 4,
     "metadata": {},
     "output_type": "execute_result"
    }
   ],
   "source": [
    "len(des['Description'])"
   ]
  },
  {
   "cell_type": "code",
   "execution_count": 5,
   "id": "9c745cee",
   "metadata": {},
   "outputs": [],
   "source": [
    "df = pd.DataFrame(des)"
   ]
  },
  {
   "cell_type": "code",
   "execution_count": 6,
   "id": "3d263f09",
   "metadata": {},
   "outputs": [
    {
     "data": {
      "text/html": [
       "<div>\n",
       "<style scoped>\n",
       "    .dataframe tbody tr th:only-of-type {\n",
       "        vertical-align: middle;\n",
       "    }\n",
       "\n",
       "    .dataframe tbody tr th {\n",
       "        vertical-align: top;\n",
       "    }\n",
       "\n",
       "    .dataframe thead th {\n",
       "        text-align: right;\n",
       "    }\n",
       "</style>\n",
       "<table border=\"1\" class=\"dataframe\">\n",
       "  <thead>\n",
       "    <tr style=\"text-align: right;\">\n",
       "      <th></th>\n",
       "      <th>Food</th>\n",
       "      <th>Description</th>\n",
       "    </tr>\n",
       "  </thead>\n",
       "  <tbody>\n",
       "    <tr>\n",
       "      <th>0</th>\n",
       "      <td>aalu chop</td>\n",
       "      <td>Snack made out of boiled potatoes and various ...</td>\n",
       "    </tr>\n",
       "    <tr>\n",
       "      <th>1</th>\n",
       "      <td>bara</td>\n",
       "      <td>Lentil patties, often served with yogurt and v...</td>\n",
       "    </tr>\n",
       "    <tr>\n",
       "      <th>2</th>\n",
       "      <td>bhatmas sadeko</td>\n",
       "      <td>Spiced roasted soybeans, often served as a snack.</td>\n",
       "    </tr>\n",
       "    <tr>\n",
       "      <th>3</th>\n",
       "      <td>biryani</td>\n",
       "      <td>A mixed rice dish. It is made with rice, some ...</td>\n",
       "    </tr>\n",
       "    <tr>\n",
       "      <th>4</th>\n",
       "      <td>buff curry</td>\n",
       "      <td>A curry made from buffalo meat, often served w...</td>\n",
       "    </tr>\n",
       "  </tbody>\n",
       "</table>\n",
       "</div>"
      ],
      "text/plain": [
       "             Food                                        Description\n",
       "0       aalu chop  Snack made out of boiled potatoes and various ...\n",
       "1            bara  Lentil patties, often served with yogurt and v...\n",
       "2  bhatmas sadeko  Spiced roasted soybeans, often served as a snack.\n",
       "3         biryani  A mixed rice dish. It is made with rice, some ...\n",
       "4      buff curry  A curry made from buffalo meat, often served w..."
      ]
     },
     "execution_count": 6,
     "metadata": {},
     "output_type": "execute_result"
    }
   ],
   "source": [
    "df.head()"
   ]
  },
  {
   "cell_type": "code",
   "execution_count": 7,
   "id": "7ad34679",
   "metadata": {},
   "outputs": [],
   "source": [
    "df = df.set_index('Food')"
   ]
  },
  {
   "cell_type": "code",
   "execution_count": 8,
   "id": "88d820b6",
   "metadata": {},
   "outputs": [
    {
     "data": {
      "text/html": [
       "<div>\n",
       "<style scoped>\n",
       "    .dataframe tbody tr th:only-of-type {\n",
       "        vertical-align: middle;\n",
       "    }\n",
       "\n",
       "    .dataframe tbody tr th {\n",
       "        vertical-align: top;\n",
       "    }\n",
       "\n",
       "    .dataframe thead th {\n",
       "        text-align: right;\n",
       "    }\n",
       "</style>\n",
       "<table border=\"1\" class=\"dataframe\">\n",
       "  <thead>\n",
       "    <tr style=\"text-align: right;\">\n",
       "      <th></th>\n",
       "      <th>Description</th>\n",
       "    </tr>\n",
       "    <tr>\n",
       "      <th>Food</th>\n",
       "      <th></th>\n",
       "    </tr>\n",
       "  </thead>\n",
       "  <tbody>\n",
       "    <tr>\n",
       "      <th>aalu chop</th>\n",
       "      <td>Snack made out of boiled potatoes and various ...</td>\n",
       "    </tr>\n",
       "    <tr>\n",
       "      <th>bara</th>\n",
       "      <td>Lentil patties, often served with yogurt and v...</td>\n",
       "    </tr>\n",
       "    <tr>\n",
       "      <th>bhatmas sadeko</th>\n",
       "      <td>Spiced roasted soybeans, often served as a snack.</td>\n",
       "    </tr>\n",
       "    <tr>\n",
       "      <th>biryani</th>\n",
       "      <td>A mixed rice dish. It is made with rice, some ...</td>\n",
       "    </tr>\n",
       "    <tr>\n",
       "      <th>buff curry</th>\n",
       "      <td>A curry made from buffalo meat, often served w...</td>\n",
       "    </tr>\n",
       "  </tbody>\n",
       "</table>\n",
       "</div>"
      ],
      "text/plain": [
       "                                                      Description\n",
       "Food                                                             \n",
       "aalu chop       Snack made out of boiled potatoes and various ...\n",
       "bara            Lentil patties, often served with yogurt and v...\n",
       "bhatmas sadeko  Spiced roasted soybeans, often served as a snack.\n",
       "biryani         A mixed rice dish. It is made with rice, some ...\n",
       "buff curry      A curry made from buffalo meat, often served w..."
      ]
     },
     "execution_count": 8,
     "metadata": {},
     "output_type": "execute_result"
    }
   ],
   "source": [
    "df.head()"
   ]
  },
  {
   "cell_type": "code",
   "execution_count": 9,
   "id": "73a78935",
   "metadata": {},
   "outputs": [
    {
     "name": "stderr",
     "output_type": "stream",
     "text": [
      "C:\\Users\\Nirajan\\AppData\\Local\\Temp\\ipykernel_8016\\459623162.py:1: FutureWarning: Series.__getitem__ treating keys as positions is deprecated. In a future version, integer keys will always be treated as labels (consistent with DataFrame behavior). To access a value by position, use `ser.iloc[pos]`\n",
      "  df.loc['biryani'][0]\n"
     ]
    },
    {
     "data": {
      "text/plain": [
       "'A mixed rice dish. It is made with rice, some type of meat and spices.'"
      ]
     },
     "execution_count": 9,
     "metadata": {},
     "output_type": "execute_result"
    }
   ],
   "source": [
    "df.loc['biryani'][0]"
   ]
  },
  {
   "cell_type": "code",
   "execution_count": 10,
   "id": "ead371e9-0c66-4b64-99d8-a16b53b58cb3",
   "metadata": {},
   "outputs": [],
   "source": [
    "df.to_csv('../app/food_description.csv')"
   ]
  },
  {
   "cell_type": "code",
   "execution_count": 13,
   "id": "aa4b181d-b000-4082-9bd2-4758d1f5c88b",
   "metadata": {},
   "outputs": [],
   "source": [
    "df2 = pd.read_csv('../app/food_description.csv', index_col=[0])"
   ]
  },
  {
   "cell_type": "code",
   "execution_count": 14,
   "id": "2ecdcb49-d1e3-4d22-86d2-127f99d5c09f",
   "metadata": {},
   "outputs": [
    {
     "data": {
      "text/html": [
       "<div>\n",
       "<style scoped>\n",
       "    .dataframe tbody tr th:only-of-type {\n",
       "        vertical-align: middle;\n",
       "    }\n",
       "\n",
       "    .dataframe tbody tr th {\n",
       "        vertical-align: top;\n",
       "    }\n",
       "\n",
       "    .dataframe thead th {\n",
       "        text-align: right;\n",
       "    }\n",
       "</style>\n",
       "<table border=\"1\" class=\"dataframe\">\n",
       "  <thead>\n",
       "    <tr style=\"text-align: right;\">\n",
       "      <th></th>\n",
       "      <th>Description</th>\n",
       "    </tr>\n",
       "    <tr>\n",
       "      <th>Food</th>\n",
       "      <th></th>\n",
       "    </tr>\n",
       "  </thead>\n",
       "  <tbody>\n",
       "    <tr>\n",
       "      <th>aalu chop</th>\n",
       "      <td>Snack made out of boiled potatoes and various ...</td>\n",
       "    </tr>\n",
       "    <tr>\n",
       "      <th>bara</th>\n",
       "      <td>Lentil patties, often served with yogurt and v...</td>\n",
       "    </tr>\n",
       "    <tr>\n",
       "      <th>bhatmas sadeko</th>\n",
       "      <td>Spiced roasted soybeans, often served as a snack.</td>\n",
       "    </tr>\n",
       "    <tr>\n",
       "      <th>biryani</th>\n",
       "      <td>A mixed rice dish. It is made with rice, some ...</td>\n",
       "    </tr>\n",
       "    <tr>\n",
       "      <th>buff curry</th>\n",
       "      <td>A curry made from buffalo meat, often served w...</td>\n",
       "    </tr>\n",
       "  </tbody>\n",
       "</table>\n",
       "</div>"
      ],
      "text/plain": [
       "                                                      Description\n",
       "Food                                                             \n",
       "aalu chop       Snack made out of boiled potatoes and various ...\n",
       "bara            Lentil patties, often served with yogurt and v...\n",
       "bhatmas sadeko  Spiced roasted soybeans, often served as a snack.\n",
       "biryani         A mixed rice dish. It is made with rice, some ...\n",
       "buff curry      A curry made from buffalo meat, often served w..."
      ]
     },
     "execution_count": 14,
     "metadata": {},
     "output_type": "execute_result"
    }
   ],
   "source": [
    "df2.head()"
   ]
  },
  {
   "cell_type": "code",
   "execution_count": null,
   "id": "ceeb38ec-936d-4c04-a88a-97db61298fba",
   "metadata": {},
   "outputs": [],
   "source": []
  }
 ],
 "metadata": {
  "kernelspec": {
   "display_name": "Python 3 (ipykernel)",
   "language": "python",
   "name": "python3"
  },
  "language_info": {
   "codemirror_mode": {
    "name": "ipython",
    "version": 3
   },
   "file_extension": ".py",
   "mimetype": "text/x-python",
   "name": "python",
   "nbconvert_exporter": "python",
   "pygments_lexer": "ipython3",
   "version": "3.10.5"
  }
 },
 "nbformat": 4,
 "nbformat_minor": 5
}
